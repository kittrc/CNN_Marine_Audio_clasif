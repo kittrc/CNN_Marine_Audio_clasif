{
 "cells": [
  {
   "cell_type": "markdown",
   "id": "c246a32f",
   "metadata": {},
   "source": [
    "# create data dictionary "
   ]
  },
  {
   "cell_type": "code",
   "execution_count": 3,
   "id": "b12f678d",
   "metadata": {},
   "outputs": [],
   "source": [
    "A=[1,2,3,4]"
   ]
  },
  {
   "cell_type": "code",
   "execution_count": 107,
   "id": "72573705",
   "metadata": {},
   "outputs": [],
   "source": [
    "X=[]\n",
    "Y=[]\n",
    "for i in range(5):\n",
    "    X.append(1*A)\n",
    "Y = ['r','u','w','a','n']\n",
    "R=True"
   ]
  },
  {
   "cell_type": "code",
   "execution_count": 108,
   "id": "c82415cd",
   "metadata": {},
   "outputs": [],
   "source": [
    "data={\n",
    "    'value':X,\n",
    "    'name':Y,\n",
    "    'logic':R\n",
    "}"
   ]
  },
  {
   "cell_type": "code",
   "execution_count": 102,
   "id": "1dc4491d",
   "metadata": {},
   "outputs": [
    {
     "data": {
      "text/plain": [
       "dict"
      ]
     },
     "execution_count": 102,
     "metadata": {},
     "output_type": "execute_result"
    }
   ],
   "source": [
    "type(data)"
   ]
  },
  {
   "cell_type": "code",
   "execution_count": 109,
   "id": "6b6bc938",
   "metadata": {},
   "outputs": [],
   "source": [
    "import json\n",
    "with open('test.json', 'w') as fp:\n",
    "    json.dump(data, fp)"
   ]
  },
  {
   "cell_type": "code",
   "execution_count": 110,
   "id": "9ab69970",
   "metadata": {},
   "outputs": [],
   "source": [
    "with open(\"test.json\", \"r\") as fload:\n",
    "    Rdata = json.load(fload)"
   ]
  },
  {
   "cell_type": "code",
   "execution_count": 113,
   "id": "9f7aa7c7",
   "metadata": {},
   "outputs": [
    {
     "name": "stderr",
     "output_type": "stream",
     "text": [
      "/tmp/ipykernel_105464/965865595.py:2: FutureWarning: The default dtype for empty Series will be 'object' instead of 'float64' in a future version. Specify a dtype explicitly to silence this warning.\n",
      "  x = pd.Series()\n"
     ]
    }
   ],
   "source": [
    "import pandas as pd\n",
    "x = pd.Series()"
   ]
  },
  {
   "cell_type": "code",
   "execution_count": 133,
   "id": "5c4361fa",
   "metadata": {},
   "outputs": [],
   "source": [
    "import numpy as np\n",
    "A = [[[1,2],[3,4]]]\n",
    "Arr=[]\n",
    "Arr.append(A)\n",
    "Arr.append(A)\n",
    "Arr.append(A)\n",
    "npArr = np.array(Arr)"
   ]
  },
  {
   "cell_type": "markdown",
   "id": "a56c75be",
   "metadata": {},
   "source": [
    "# Lable encoding"
   ]
  },
  {
   "cell_type": "code",
   "execution_count": 61,
   "id": "84f2f45d",
   "metadata": {},
   "outputs": [
    {
     "data": {
      "text/plain": [
       "tensorflow.python.framework.ops.EagerTensor"
      ]
     },
     "execution_count": 61,
     "metadata": {},
     "output_type": "execute_result"
    }
   ],
   "source": [
    "import tensorflow as tf\n",
    "\n",
    "original_indices = tf.constant([0,1,2,3,4,5,6,7,8,9])\n",
    "depth = tf.constant(10)\n",
    "one_hot_encoded = tf.one_hot(indices=original_indices, depth=depth)\n",
    "type(depth)"
   ]
  },
  {
   "cell_type": "code",
   "execution_count": 62,
   "id": "4ed8b6c0",
   "metadata": {},
   "outputs": [
    {
     "name": "stdout",
     "output_type": "stream",
     "text": [
      "tf.Tensor(\n",
      "[[1. 0. 0. 0. 0. 0. 0. 0. 0. 0.]\n",
      " [0. 1. 0. 0. 0. 0. 0. 0. 0. 0.]\n",
      " [0. 0. 1. 0. 0. 0. 0. 0. 0. 0.]\n",
      " [0. 0. 0. 1. 0. 0. 0. 0. 0. 0.]\n",
      " [0. 0. 0. 0. 1. 0. 0. 0. 0. 0.]\n",
      " [0. 0. 0. 0. 0. 1. 0. 0. 0. 0.]\n",
      " [0. 0. 0. 0. 0. 0. 1. 0. 0. 0.]\n",
      " [0. 0. 0. 0. 0. 0. 0. 1. 0. 0.]\n",
      " [0. 0. 0. 0. 0. 0. 0. 0. 1. 0.]\n",
      " [0. 0. 0. 0. 0. 0. 0. 0. 0. 1.]], shape=(10, 10), dtype=float32)\n"
     ]
    }
   ],
   "source": [
    "  print(one_hot_encoded)"
   ]
  },
  {
   "cell_type": "code",
   "execution_count": 66,
   "id": "4ae01d0f",
   "metadata": {},
   "outputs": [
    {
     "data": {
      "text/plain": [
       "array([[1.],\n",
       "       [2.],\n",
       "       [0.],\n",
       "       [3.],\n",
       "       [4.]])"
      ]
     },
     "execution_count": 66,
     "metadata": {},
     "output_type": "execute_result"
    }
   ],
   "source": [
    "import pandas as pd\n",
    "from sklearn.preprocessing import OneHotEncoder\n",
    "Y = ['ruwan','saman','kamal','siril','sumana']\n",
    "Y = pd.array(Y)\n",
    "Y = Y.reshape((len(Y), 1))\n",
    "oe = OrdinalEncoder()\n",
    "oe.fit(Y)\n",
    "EnY = oe.transform(Y)\n",
    "EnY"
   ]
  },
  {
   "cell_type": "code",
   "execution_count": 97,
   "id": "8a7c184c",
   "metadata": {},
   "outputs": [],
   "source": [
    "dirData = './Data'\n",
    "\n",
    "def  encodeLable (dirData):\n",
    "    mapping =[]\n",
    "    for mamalName in os.listdir(dirData): \n",
    "        mapping.append(mamalName)\n",
    "\n",
    "    mapping = pd.array(mapping)\n",
    "    pdY = mapping.reshape((len(mapping), 1))\n",
    "    oe = OrdinalEncoder()\n",
    "    oe.fit(pdY)\n",
    "    encY = oe.transform(pdY)\n",
    "    labelY = { mapping[i]:int(encY[i]) for i in range(len(mapping))}\n",
    "    return mapping, labelY\n"
   ]
  },
  {
   "cell_type": "code",
   "execution_count": 99,
   "id": "f76ffa5b",
   "metadata": {},
   "outputs": [
    {
     "data": {
      "text/plain": [
       "8"
      ]
     },
     "execution_count": 99,
     "metadata": {},
     "output_type": "execute_result"
    }
   ],
   "source": [
    "mapping, encodeY = encodeLable (dirData)\n",
    "encodeY ['spotted Dolphin']\n"
   ]
  },
  {
   "cell_type": "code",
   "execution_count": 74,
   "id": "1b13ff70",
   "metadata": {},
   "outputs": [
    {
     "data": {
      "text/plain": [
       "<StringArray>\n",
       "[    'spotted Dolphin',        'Bearded Seal',  'Beluga White Whale',\n",
       "  'Bottlenose Dolphin',       'Bowhead Whale',     'Clymene Dolphin',\n",
       "      'Common Dolphin', 'BFalse Killer Whale',       'Finback Whale']\n",
       "Length: 9, dtype: string"
      ]
     },
     "execution_count": 74,
     "metadata": {},
     "output_type": "execute_result"
    }
   ],
   "source": [
    "mapping"
   ]
  },
  {
   "cell_type": "code",
   "execution_count": null,
   "id": "3424e951",
   "metadata": {},
   "outputs": [],
   "source": []
  }
 ],
 "metadata": {
  "kernelspec": {
   "display_name": "Python 3 (ipykernel)",
   "language": "python",
   "name": "python3"
  },
  "language_info": {
   "codemirror_mode": {
    "name": "ipython",
    "version": 3
   },
   "file_extension": ".py",
   "mimetype": "text/x-python",
   "name": "python",
   "nbconvert_exporter": "python",
   "pygments_lexer": "ipython3",
   "version": "3.9.7"
  }
 },
 "nbformat": 4,
 "nbformat_minor": 5
}
