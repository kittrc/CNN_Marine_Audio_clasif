{
 "cells": [
  {
   "cell_type": "markdown",
   "id": "ce5fdb05",
   "metadata": {},
   "source": [
    "# read Fmcc from .json"
   ]
  },
  {
   "cell_type": "code",
   "execution_count": 60,
   "id": "7de0263d",
   "metadata": {},
   "outputs": [],
   "source": [
    "import json\n",
    "import codecs\n",
    "import numpy as np\n"
   ]
  },
  {
   "cell_type": "code",
   "execution_count": 61,
   "id": "e5e39f0f",
   "metadata": {},
   "outputs": [],
   "source": [
    "def ImportMfccData(pathMfccSave):\n",
    "    objDataRead = codecs.open(pathMfccSave, 'r', encoding='utf-8').read()\n",
    "    Rdata = json.loads(objDataRead)\n",
    "    \n",
    "    RX = np.array(Rdata['X'])\n",
    "    RY = np.array(Rdata['Y'])\n",
    "    Rmapping = Rdata['mapping']\n",
    "    return RX,RY,Rmapping"
   ]
  },
  {
   "cell_type": "code",
   "execution_count": 62,
   "id": "b266955d",
   "metadata": {},
   "outputs": [
    {
     "name": "stdout",
     "output_type": "stream",
     "text": [
      "data importing completed\n"
     ]
    }
   ],
   "source": [
    "pathMfccSave ='fmcc_marine_mamal.json'\n",
    "RX,RY,Rmapping = ImportMfccData(pathMfccSave)\n",
    "print('data importing completed')"
   ]
  },
  {
   "cell_type": "code",
   "execution_count": 63,
   "id": "6a004428",
   "metadata": {},
   "outputs": [
    {
     "data": {
      "text/plain": [
       "(array([0, 1, 2, 3, 4, 5, 6, 7, 8]),\n",
       " array([  16,  213,   57,    3,  264,   71,  201, 1622,   72]))"
      ]
     },
     "execution_count": 63,
     "metadata": {},
     "output_type": "execute_result"
    }
   ],
   "source": [
    "np.unique(RY, return_counts=True)"
   ]
  },
  {
   "cell_type": "markdown",
   "id": "d690d3ed",
   "metadata": {},
   "source": [
    "# prepare data"
   ]
  },
  {
   "cell_type": "code",
   "execution_count": 64,
   "id": "a0a4f1c1",
   "metadata": {},
   "outputs": [],
   "source": [
    "##### prepare data\n",
    "\n",
    "from sklearn.model_selection import train_test_split\n",
    "test_size = 0.25\n",
    "validation_size = 0.2\n",
    "def prepareData (X, Y, test_size, validation_size):\n",
    "    X_train, X_test, y_train, y_test = train_test_split(X, Y, test_size=test_size)\n",
    "    X_train, X_validation, y_train, y_validation = train_test_split(X_train, y_train, test_size=validation_size)\n",
    "        \n",
    "    X_train = X_train[..., np.newaxis] \n",
    "    X_validation = X_validation[..., np.newaxis] \n",
    "    X_test = X_test[..., np.newaxis] \n",
    "\n",
    "    return X_train, X_validation, X_test, y_train, y_validation, y_test\n"
   ]
  },
  {
   "cell_type": "code",
   "execution_count": 65,
   "id": "eda3b378",
   "metadata": {},
   "outputs": [],
   "source": [
    "\n",
    "X_train, X_validation, X_test,y_train, y_validation, y_test = prepareData (RX, RY, test_size, validation_size)"
   ]
  },
  {
   "cell_type": "code",
   "execution_count": 66,
   "id": "3f194213",
   "metadata": {},
   "outputs": [
    {
     "data": {
      "text/plain": [
       "(1511, 40, 100, 1)"
      ]
     },
     "execution_count": 66,
     "metadata": {},
     "output_type": "execute_result"
    }
   ],
   "source": [
    "## debugging\n",
    "X_train.shape"
   ]
  },
  {
   "cell_type": "markdown",
   "id": "ccc11ece",
   "metadata": {},
   "source": [
    "# Training model"
   ]
  },
  {
   "cell_type": "code",
   "execution_count": 67,
   "id": "51d02cb7",
   "metadata": {},
   "outputs": [],
   "source": [
    "\n",
    "import tensorflow as tf\n",
    "import tensorflow.keras as keras\n",
    "import matplotlib.pyplot as plt\n",
    "import seaborn as sns\n",
    "import pandas as pd "
   ]
  },
  {
   "cell_type": "code",
   "execution_count": 68,
   "id": "2e5d51d7",
   "metadata": {},
   "outputs": [
    {
     "name": "stdout",
     "output_type": "stream",
     "text": [
      "end\n"
     ]
    }
   ],
   "source": [
    "\n",
    "def plot_history(history):\n",
    "    \"\"\"Plots accuracy/loss for training/validation set as a function of the epochs\n",
    "        :param history: Training history of model\n",
    "        :return:\n",
    "    \"\"\"\n",
    "\n",
    "    fig, axs = plt.subplots(2)\n",
    "\n",
    "    # create accuracy sublpot\n",
    "    axs[0].plot(history.history[\"accuracy\"], label=\"train accuracy\")\n",
    "    axs[0].plot(history.history[\"val_accuracy\"], label=\"test accuracy\")\n",
    "    axs[0].set_ylabel(\"Accuracy\")\n",
    "    axs[0].legend(loc=\"lower right\")\n",
    "    axs[0].set_title(\"Accuracy eval\")\n",
    "\n",
    "    # create error sublpot\n",
    "    axs[1].plot(history.history[\"loss\"], label=\"train error\")\n",
    "    axs[1].plot(history.history[\"val_loss\"], label=\"test error\")\n",
    "    axs[1].set_ylabel(\"Error\")\n",
    "    axs[1].set_xlabel(\"Epoch\")\n",
    "    axs[1].legend(loc=\"upper right\")\n",
    "    axs[1].set_title(\"Error eval\")\n",
    "    \n",
    "    # Save image\n",
    "    fig.subplots_adjust(hspace=0.5)\n",
    "    plt.savefig('/Users/javonnii/dolby_io/acc_loss_metrics.png', bbox_inches='tight')\n",
    "    plt.show()\n",
    "print('end')"
   ]
  },
  {
   "cell_type": "code",
   "execution_count": 69,
   "id": "f7dbfaa4",
   "metadata": {},
   "outputs": [
    {
     "name": "stdout",
     "output_type": "stream",
     "text": [
      "end\n"
     ]
    }
   ],
   "source": [
    "def build_model(input_shape):\n",
    "    \n",
    "    # Instantiate model\n",
    "    model = keras.Sequential()\n",
    "    \n",
    "    # 1st conv layer\n",
    "    model.add(keras.layers.Conv2D(32, (3, 3), activation='relu', input_shape=input_shape))\n",
    "    model.add(keras.layers.MaxPool2D((3, 3), strides=(2,2), padding='same'))\n",
    "    model.add(keras.layers.BatchNormalization()) # normalizes the activation at the layer, speeds up training\n",
    "              \n",
    "    # 2nd conv layer\n",
    "    model.add(keras.layers.Conv2D(32, (3, 3), activation='relu', input_shape=input_shape))\n",
    "    model.add(keras.layers.MaxPool2D((3, 3), strides=(2,2), padding='same'))\n",
    "    model.add(keras.layers.BatchNormalization())\n",
    "                  \n",
    "              \n",
    "    # 3rd conv layer\n",
    "    model.add(keras.layers.Conv2D(32, (2, 2), activation='relu', input_shape=input_shape))\n",
    "    model.add(keras.layers.MaxPool2D((2, 2), strides=(2,2), padding='same'))\n",
    "    model.add(keras.layers.BatchNormalization())\n",
    "              \n",
    "    # flatten output and feed it into dense layer\n",
    "    model.add(keras.layers.Flatten()) # flatten conv output\n",
    "    model.add(keras.layers.Dense(64, activation='relu'))\n",
    "    model.add(keras.layers.Dropout(0.3)) # randomly drops neurons\n",
    "            \n",
    "    # output layer that uses softmax\n",
    "    model.add(keras.layers.Dense(9, activation='softmax')) # number of neurons of the classifications we want to predict\n",
    "    \n",
    "    print(model.summary())\n",
    "    \n",
    "    return model\n",
    "print('end')"
   ]
  },
  {
   "cell_type": "code",
   "execution_count": 70,
   "id": "ffe53952",
   "metadata": {},
   "outputs": [
    {
     "name": "stdout",
     "output_type": "stream",
     "text": [
      "end\n"
     ]
    }
   ],
   "source": [
    "def build_model(input_shape):\n",
    "    \n",
    "    # Instantiate model\n",
    "    model = keras.Sequential()\n",
    "    \n",
    "    # 1st conv layer\n",
    "    model.add(keras.layers.Conv2D(32, (3, 3), activation='relu', input_shape=input_shape))\n",
    "    model.add(keras.layers.MaxPool2D((3, 3), strides=(2,2), padding='same'))\n",
    "    model.add(keras.layers.BatchNormalization()) # normalizes the activation at the layer, speeds up training\n",
    "              \n",
    "    # 2nd conv layer\n",
    "    model.add(keras.layers.Conv2D(32, (3, 3), activation='relu', input_shape=input_shape))\n",
    "    model.add(keras.layers.MaxPool2D((3, 3), strides=(2,2), padding='same'))\n",
    "    model.add(keras.layers.BatchNormalization())\n",
    "                  \n",
    "              \n",
    "    # 3rd conv layer\n",
    "    model.add(keras.layers.Conv2D(32, (2, 2), activation='relu', input_shape=input_shape))\n",
    "    model.add(keras.layers.MaxPool2D((2, 2), strides=(2,2), padding='same'))\n",
    "    model.add(keras.layers.BatchNormalization())\n",
    "              \n",
    "    # flatten output and feed it into dense layer\n",
    "    model.add(keras.layers.Flatten()) # flatten conv output\n",
    "    model.add(keras.layers.Dense(64, activation='relu'))\n",
    "    model.add(keras.layers.Dropout(0.3)) # randomly drops neurons\n",
    "            \n",
    "    # output layer that uses softmax\n",
    "    model.add(keras.layers.Dense(9, activation='softmax')) # number of neurons of the classifications we want to predict\n",
    "    \n",
    "    print(model.summary())\n",
    "    \n",
    "    return model\n",
    "print('end')"
   ]
  },
  {
   "cell_type": "code",
   "execution_count": 71,
   "id": "b8e6233f",
   "metadata": {},
   "outputs": [
    {
     "name": "stdout",
     "output_type": "stream",
     "text": [
      "Model: \"sequential_1\"\n",
      "_________________________________________________________________\n",
      "Layer (type)                 Output Shape              Param #   \n",
      "=================================================================\n",
      "conv2d_3 (Conv2D)            (None, 38, 98, 32)        320       \n",
      "_________________________________________________________________\n",
      "max_pooling2d_3 (MaxPooling2 (None, 19, 49, 32)        0         \n",
      "_________________________________________________________________\n",
      "batch_normalization_3 (Batch (None, 19, 49, 32)        128       \n",
      "_________________________________________________________________\n",
      "conv2d_4 (Conv2D)            (None, 17, 47, 32)        9248      \n",
      "_________________________________________________________________\n",
      "max_pooling2d_4 (MaxPooling2 (None, 9, 24, 32)         0         \n",
      "_________________________________________________________________\n",
      "batch_normalization_4 (Batch (None, 9, 24, 32)         128       \n",
      "_________________________________________________________________\n",
      "conv2d_5 (Conv2D)            (None, 8, 23, 32)         4128      \n",
      "_________________________________________________________________\n",
      "max_pooling2d_5 (MaxPooling2 (None, 4, 12, 32)         0         \n",
      "_________________________________________________________________\n",
      "batch_normalization_5 (Batch (None, 4, 12, 32)         128       \n",
      "_________________________________________________________________\n",
      "flatten_1 (Flatten)          (None, 1536)              0         \n",
      "_________________________________________________________________\n",
      "dense_2 (Dense)              (None, 64)                98368     \n",
      "_________________________________________________________________\n",
      "dropout_1 (Dropout)          (None, 64)                0         \n",
      "_________________________________________________________________\n",
      "dense_3 (Dense)              (None, 9)                 585       \n",
      "=================================================================\n",
      "Total params: 113,033\n",
      "Trainable params: 112,841\n",
      "Non-trainable params: 192\n",
      "_________________________________________________________________\n",
      "None\n"
     ]
    }
   ],
   "source": [
    "# build the cnn net\n",
    "input_shape = (X_train.shape[1], X_train.shape[2], X_train.shape[3])\n",
    "model = build_model(input_shape)"
   ]
  },
  {
   "cell_type": "code",
   "execution_count": 72,
   "id": "91d9d59b",
   "metadata": {},
   "outputs": [],
   "source": [
    "# compile the network\n",
    "optimizer = keras.optimizers.Adam(learning_rate=0.0001)\n",
    "model.compile(optimizer=optimizer, \n",
    "              loss=\"sparse_categorical_crossentropy\",\n",
    "              metrics=['accuracy'])"
   ]
  },
  {
   "cell_type": "code",
   "execution_count": 73,
   "id": "f1d0c7a5",
   "metadata": {},
   "outputs": [
    {
     "name": "stdout",
     "output_type": "stream",
     "text": [
      "Epoch 1/40\n",
      "48/48 [==============================] - 15s 251ms/step - loss: 1.2782 - accuracy: 0.6110 - val_loss: 1.6624 - val_accuracy: 0.4683\n",
      "Epoch 2/40\n",
      "48/48 [==============================] - 12s 251ms/step - loss: 0.4984 - accuracy: 0.8275 - val_loss: 0.8470 - val_accuracy: 0.8307\n",
      "Epoch 3/40\n",
      "48/48 [==============================] - 11s 226ms/step - loss: 0.3475 - accuracy: 0.8780 - val_loss: 0.4588 - val_accuracy: 0.8757\n",
      "Epoch 4/40\n",
      "48/48 [==============================] - 11s 238ms/step - loss: 0.2928 - accuracy: 0.8914 - val_loss: 0.3108 - val_accuracy: 0.8757\n",
      "Epoch 5/40\n",
      "48/48 [==============================] - 11s 238ms/step - loss: 0.2442 - accuracy: 0.9069 - val_loss: 0.2419 - val_accuracy: 0.8968\n",
      "Epoch 6/40\n",
      "48/48 [==============================] - 12s 252ms/step - loss: 0.2356 - accuracy: 0.9059 - val_loss: 0.2049 - val_accuracy: 0.9153\n",
      "Epoch 7/40\n",
      "48/48 [==============================] - 12s 249ms/step - loss: 0.1847 - accuracy: 0.9218 - val_loss: 0.1712 - val_accuracy: 0.9127\n",
      "Epoch 8/40\n",
      "48/48 [==============================] - 12s 245ms/step - loss: 0.1769 - accuracy: 0.9208 - val_loss: 0.1551 - val_accuracy: 0.9286\n",
      "Epoch 9/40\n",
      "48/48 [==============================] - 12s 250ms/step - loss: 0.1511 - accuracy: 0.9303 - val_loss: 0.1505 - val_accuracy: 0.9365\n",
      "Epoch 10/40\n",
      "48/48 [==============================] - 12s 246ms/step - loss: 0.1597 - accuracy: 0.9337 - val_loss: 0.1436 - val_accuracy: 0.9127\n",
      "Epoch 11/40\n",
      "48/48 [==============================] - 11s 229ms/step - loss: 0.1266 - accuracy: 0.9474 - val_loss: 0.1436 - val_accuracy: 0.9180\n",
      "Epoch 12/40\n",
      "48/48 [==============================] - 12s 257ms/step - loss: 0.1477 - accuracy: 0.9268 - val_loss: 0.1333 - val_accuracy: 0.9101\n",
      "Epoch 13/40\n",
      "48/48 [==============================] - 12s 245ms/step - loss: 0.1361 - accuracy: 0.9336 - val_loss: 0.1304 - val_accuracy: 0.9153\n",
      "Epoch 14/40\n",
      "48/48 [==============================] - 11s 231ms/step - loss: 0.1172 - accuracy: 0.9418 - val_loss: 0.1351 - val_accuracy: 0.9048\n",
      "Epoch 15/40\n",
      "48/48 [==============================] - 10s 206ms/step - loss: 0.1208 - accuracy: 0.9450 - val_loss: 0.1333 - val_accuracy: 0.9127\n",
      "Epoch 16/40\n",
      "48/48 [==============================] - 10s 212ms/step - loss: 0.1188 - accuracy: 0.9405 - val_loss: 0.1238 - val_accuracy: 0.9206\n",
      "Epoch 17/40\n",
      "48/48 [==============================] - 10s 204ms/step - loss: 0.1191 - accuracy: 0.9324 - val_loss: 0.1252 - val_accuracy: 0.9339\n",
      "Epoch 18/40\n",
      "48/48 [==============================] - 12s 253ms/step - loss: 0.1174 - accuracy: 0.9341 - val_loss: 0.1268 - val_accuracy: 0.9153\n",
      "Epoch 19/40\n",
      "48/48 [==============================] - 12s 252ms/step - loss: 0.1092 - accuracy: 0.9403 - val_loss: 0.1234 - val_accuracy: 0.9153\n",
      "Epoch 20/40\n",
      "48/48 [==============================] - 12s 250ms/step - loss: 0.0961 - accuracy: 0.9524 - val_loss: 0.1234 - val_accuracy: 0.9153\n",
      "Epoch 21/40\n",
      "48/48 [==============================] - 11s 233ms/step - loss: 0.1111 - accuracy: 0.9390 - val_loss: 0.1203 - val_accuracy: 0.9153\n",
      "Epoch 22/40\n",
      "48/48 [==============================] - 11s 233ms/step - loss: 0.0908 - accuracy: 0.9534 - val_loss: 0.1214 - val_accuracy: 0.9206\n",
      "Epoch 23/40\n",
      "48/48 [==============================] - 12s 248ms/step - loss: 0.1047 - accuracy: 0.9519 - val_loss: 0.1230 - val_accuracy: 0.9153\n",
      "Epoch 24/40\n",
      "48/48 [==============================] - 10s 216ms/step - loss: 0.0975 - accuracy: 0.9412 - val_loss: 0.1227 - val_accuracy: 0.9153\n",
      "Epoch 25/40\n",
      "48/48 [==============================] - 11s 242ms/step - loss: 0.0948 - accuracy: 0.9516 - val_loss: 0.1231 - val_accuracy: 0.9180\n",
      "Epoch 26/40\n",
      "48/48 [==============================] - 11s 220ms/step - loss: 0.0838 - accuracy: 0.9572 - val_loss: 0.1204 - val_accuracy: 0.9153\n",
      "Epoch 27/40\n",
      "48/48 [==============================] - 11s 225ms/step - loss: 0.0845 - accuracy: 0.9521 - val_loss: 0.1166 - val_accuracy: 0.9153\n",
      "Epoch 28/40\n",
      "48/48 [==============================] - 11s 220ms/step - loss: 0.0847 - accuracy: 0.9486 - val_loss: 0.1172 - val_accuracy: 0.9153\n",
      "Epoch 29/40\n",
      "48/48 [==============================] - 12s 243ms/step - loss: 0.0987 - accuracy: 0.9453 - val_loss: 0.1182 - val_accuracy: 0.9206\n",
      "Epoch 30/40\n",
      "48/48 [==============================] - 12s 253ms/step - loss: 0.1024 - accuracy: 0.9407 - val_loss: 0.1185 - val_accuracy: 0.9153\n",
      "Epoch 31/40\n",
      "48/48 [==============================] - 10s 215ms/step - loss: 0.0855 - accuracy: 0.9598 - val_loss: 0.1202 - val_accuracy: 0.9127\n",
      "Epoch 32/40\n",
      "48/48 [==============================] - 11s 229ms/step - loss: 0.0957 - accuracy: 0.9499 - val_loss: 0.1228 - val_accuracy: 0.9153\n",
      "Epoch 33/40\n",
      "48/48 [==============================] - 12s 243ms/step - loss: 0.0900 - accuracy: 0.9461 - val_loss: 0.1208 - val_accuracy: 0.9206\n",
      "Epoch 34/40\n",
      "48/48 [==============================] - 13s 268ms/step - loss: 0.0995 - accuracy: 0.9372 - val_loss: 0.1185 - val_accuracy: 0.9206\n",
      "Epoch 35/40\n",
      "48/48 [==============================] - 11s 227ms/step - loss: 0.0869 - accuracy: 0.9506 - val_loss: 0.1152 - val_accuracy: 0.9206\n",
      "Epoch 36/40\n",
      "48/48 [==============================] - 12s 255ms/step - loss: 0.0730 - accuracy: 0.9681 - val_loss: 0.1236 - val_accuracy: 0.9180\n",
      "Epoch 37/40\n",
      "48/48 [==============================] - 11s 231ms/step - loss: 0.0852 - accuracy: 0.9562 - val_loss: 0.1222 - val_accuracy: 0.9180\n",
      "Epoch 38/40\n",
      "48/48 [==============================] - 12s 252ms/step - loss: 0.0869 - accuracy: 0.9474 - val_loss: 0.1205 - val_accuracy: 0.9180\n",
      "Epoch 39/40\n",
      "48/48 [==============================] - 11s 239ms/step - loss: 0.0883 - accuracy: 0.9500 - val_loss: 0.1181 - val_accuracy: 0.9153\n",
      "Epoch 40/40\n",
      "48/48 [==============================] - 11s 236ms/step - loss: 0.0780 - accuracy: 0.9559 - val_loss: 0.1226 - val_accuracy: 0.9180\n"
     ]
    }
   ],
   "source": [
    "# Train the cnn \n",
    "history = model.fit(X_train, y_train, validation_data=(X_validation, y_validation), batch_size=32, epochs=40)\n"
   ]
  },
  {
   "cell_type": "code",
   "execution_count": 74,
   "id": "cde987bf",
   "metadata": {},
   "outputs": [],
   "source": [
    "# plot accuracy/error for training and validation\n",
    "# plot_history(history)"
   ]
  },
  {
   "cell_type": "code",
   "execution_count": 75,
   "id": "3a77774c",
   "metadata": {},
   "outputs": [
    {
     "name": "stdout",
     "output_type": "stream",
     "text": [
      "20/20 [==============================] - 1s 49ms/step - loss: 0.1368 - accuracy: 0.9206\n",
      "Accuracy on test set is: 0.920634925365448\n"
     ]
    }
   ],
   "source": [
    "# evaluate the cnn on the test set\n",
    "\n",
    "test_error, test_accuracy = model.evaluate(X_test, y_test, verbose=1)\n",
    "print(\"Accuracy on test set is: {}\".format(test_accuracy))"
   ]
  },
  {
   "cell_type": "markdown",
   "id": "6923604d",
   "metadata": {},
   "source": [
    "# confution metrix"
   ]
  },
  {
   "cell_type": "code",
   "execution_count": 76,
   "id": "1035fdc2",
   "metadata": {},
   "outputs": [
    {
     "name": "stdout",
     "output_type": "stream",
     "text": [
      "[7. 1. 5. 7. 7. 7. 7. 7. 7. 6. 7. 7. 2. 6. 4. 4. 7. 4. 7. 7. 7. 7. 7. 7.\n",
      " 7. 7. 7. 2. 7. 7. 7. 4. 4. 7. 7. 7. 7. 7. 0. 7. 6. 7. 7. 1. 7. 6. 4. 7.\n",
      " 7. 4. 7. 7. 7. 7. 1. 1. 7. 7. 6. 7. 7. 7. 7. 7. 7. 7. 7. 5. 1. 7. 6. 7.\n",
      " 7. 7. 4. 7. 7. 7. 7. 7. 1. 4. 7. 4. 8. 7. 7. 7. 4. 7. 6. 4. 4. 5. 7. 4.\n",
      " 7. 7. 7. 7. 7. 7. 5. 7. 7. 7. 4. 7. 7. 5. 7. 7. 6. 5. 1. 7. 4. 7. 0. 4.\n",
      " 6. 7. 7. 7. 7. 7. 6. 1. 7. 4. 4. 7. 7. 7. 4. 6. 7. 7. 7. 7. 7. 7. 7. 7.\n",
      " 7. 7. 7. 7. 7. 4. 6. 7. 4. 5. 7. 7. 7. 1. 7. 5. 7. 7. 7. 7. 1. 6. 7. 7.\n",
      " 6. 7. 7. 8. 7. 7. 7. 5. 5. 7. 6. 7. 7. 7. 4. 7. 7. 4. 7. 7. 6. 1. 7. 7.\n",
      " 7. 7. 7. 7. 7. 4. 7. 7. 7. 6. 7. 7. 7. 6. 7. 4. 7. 7. 2. 7. 7. 1. 7. 7.\n",
      " 7. 7. 1. 7. 7. 7. 7. 4. 7. 7. 7. 6. 7. 7. 7. 6. 2. 7. 7. 4. 4. 1. 8. 7.\n",
      " 7. 7. 1. 7. 7. 4. 7. 7. 7. 1. 7. 6. 7. 8. 7. 4. 7. 6. 7. 7. 4. 4. 7. 7.\n",
      " 7. 7. 5. 7. 7. 7. 7. 4. 5. 7. 5. 7. 1. 7. 7. 7. 7. 7. 4. 7. 7. 2. 8. 4.\n",
      " 7. 7. 7. 7. 7. 7. 7. 7. 7. 4. 7. 4. 6. 7. 7. 4. 7. 8. 7. 7. 7. 7. 7. 4.\n",
      " 7. 7. 1. 2. 7. 7. 7. 7. 7. 7. 4. 7. 7. 6. 7. 2. 7. 7. 7. 7. 4. 8. 7. 7.\n",
      " 2. 7. 4. 4. 7. 6. 2. 7. 7. 7. 7. 7. 7. 7. 6. 7. 7. 7. 7. 7. 7. 7. 7. 7.\n",
      " 8. 7. 8. 6. 4. 7. 7. 7. 7. 7. 4. 7. 8. 7. 7. 7. 7. 7. 6. 2. 7. 7. 7. 4.\n",
      " 7. 7. 7. 7. 7. 5. 7. 4. 1. 2. 4. 5. 7. 4. 7. 7. 7. 7. 7. 6. 7. 7. 7. 7.\n",
      " 7. 2. 7. 7. 7. 7. 4. 7. 7. 6. 7. 1. 5. 1. 7. 7. 4. 4. 7. 6. 7. 4. 7. 8.\n",
      " 1. 7. 7. 7. 1. 7. 7. 7. 6. 7. 7. 5. 7. 4. 7. 2. 7. 7. 8. 8. 7. 7. 7. 7.\n",
      " 6. 7. 7. 7. 6. 7. 7. 4. 6. 5. 7. 1. 6. 7. 1. 2. 7. 4. 0. 7. 4. 7. 7. 6.\n",
      " 6. 7. 7. 6. 7. 6. 1. 7. 4. 7. 4. 7. 4. 7. 7. 4. 7. 2. 7. 7. 8. 7. 7. 4.\n",
      " 7. 7. 1. 7. 7. 7. 7. 7. 4. 7. 7. 4. 4. 4. 4. 7. 7. 7. 7. 7. 4. 2. 7. 7.\n",
      " 7. 4. 7. 6. 7. 2. 7. 7. 4. 6. 7. 4. 7. 6. 7. 7. 7. 6. 7. 1. 7. 7. 7. 7.\n",
      " 4. 6. 6. 1. 7. 1. 7. 7. 7. 7. 7. 4. 6. 6. 7. 5. 7. 7. 7. 8. 7. 7. 7. 7.\n",
      " 7. 4. 7. 4. 8. 7. 7. 7. 7. 4. 7. 7. 7. 4. 7. 7. 7. 6. 4. 7. 7. 7. 7. 5.\n",
      " 7. 7. 7. 7. 7. 7. 1. 7. 7. 4. 7. 7. 7. 4. 5. 5. 4. 7. 1. 7. 7. 6. 7. 1.\n",
      " 7. 7. 7. 7. 4. 7.]\n"
     ]
    }
   ],
   "source": [
    "# iterate each sample of X_test, predict, and store predicted index into a numpy array.\n",
    "\n",
    "ypred_array = np.array([])\n",
    "\n",
    "for i in range(len(X_test)):\n",
    "    X = X_test[i]\n",
    "    X = X[np.newaxis, ...] # to make a 4D\n",
    "    \n",
    "    # prediction\n",
    "    prediction = model.predict(X)\n",
    "    \n",
    "    # extract the index with the max value\n",
    "    predicted_index = np.argmax(prediction, axis=1)\n",
    "    ypred_array = np.append(ypred_array, predicted_index)\n",
    "\n",
    "print(ypred_array)"
   ]
  },
  {
   "cell_type": "code",
   "execution_count": 77,
   "id": "999aa10a",
   "metadata": {},
   "outputs": [
    {
     "data": {
      "text/plain": [
       "<tf.Tensor: shape=(9, 9), dtype=int32, numpy=\n",
       "array([[ 10,   0,   0,   0,   0,   1,   0,   0,   0],\n",
       "       [  0,  34,   0,   0,  39,   1,   0,   1,   0],\n",
       "       [  0,   2,  26,   0,   0,   0,   0,   0,   0],\n",
       "       [  0,   0,   0,   2,   0,   0,   3,   0,   0],\n",
       "       [  0,  32,   0,   0,  84,   0,   0,   0,   0],\n",
       "       [  0,   0,   0,   0,   0,  27,   1,   0,   0],\n",
       "       [  0,   0,   0,   0,   0,   0,  85,   0,   1],\n",
       "       [  0,   0,   0,   0,   0,   0,   0, 622,   0],\n",
       "       [  0,   0,   0,   0,   0,   0,   0,   0,  25]], dtype=int32)>"
      ]
     },
     "execution_count": 77,
     "metadata": {},
     "output_type": "execute_result"
    }
   ],
   "source": [
    "confusion_mtx"
   ]
  },
  {
   "cell_type": "code",
   "execution_count": null,
   "id": "5dab1a57",
   "metadata": {},
   "outputs": [],
   "source": []
  },
  {
   "cell_type": "code",
   "execution_count": 58,
   "id": "16c3fca2",
   "metadata": {},
   "outputs": [
    {
     "data": {
      "image/png": "[encoded data removed]",
      "text/plain": [
       "<Figure size 720x576 with 1 Axes>"
      ]
     },
     "metadata": {
      "needs_background": "light"
     },
     "output_type": "display_data"
    }
   ],
   "source": [
    "import seaborn as sns\n",
    "confusion_mtx = tf.math.confusion_matrix(y_test, ypred_array) \n",
    "plt.figure(figsize=(10, 8))\n",
    "sns.heatmap(confusion_mtx, xticklabels=Rmapping.keys(), yticklabels=Rmapping.keys(),\n",
    "             annot=True, fmt='g', cbar=False, cmap= 'gray', vmin = -100000, vmax =600)\n",
    "plt.xlabel('Prediction')\n",
    "plt.ylabel('Label')\n",
    "plt.title(\"Confusion Matrix of CNN\")\n",
    "plt.show();\n"
   ]
  },
  {
   "cell_type": "markdown",
   "id": "5ac3b73a",
   "metadata": {},
   "source": [
    "# Predict Sample"
   ]
  },
  {
   "cell_type": "code",
   "execution_count": 59,
   "id": "3fbc543f",
   "metadata": {},
   "outputs": [],
   "source": [
    "def predict(model, X, y):\n",
    "    X = X[np.newaxis, ...] # to put make a 4D\n",
    "    \n",
    "    # prediction = [ [0.1, 0.2, ...] ] result of the softmax\n",
    "    prediction = model.predict(X) # X -> (130, 13, 1) but expect 4D i.e num samples (1, 130, 13, 1)\n",
    "    \n",
    "    # extract the index with the max value\n",
    "    predicted_index = np.argmax(prediction, axis=1) # [idx] \n",
    "    print(\"Expected index: {}, Predicted index: {}\".format(y, predicted_index))\n",
    "#     print(X.shape)\n",
    "    "
   ]
  },
  {
   "cell_type": "code",
   "execution_count": null,
   "id": "efd124a9",
   "metadata": {},
   "outputs": [],
   "source": [
    "# make a prediction on a sample\n",
    "X = X_test[65]\n",
    "y = y_test[65]\n",
    "\n",
    "predict(model, X, y)"
   ]
  }
 ],
 "metadata": {
  "kernelspec": {
   "display_name": "Python 3 (ipykernel)",
   "language": "python",
   "name": "python3"
  },
  "language_info": {
   "codemirror_mode": {
    "name": "ipython",
    "version": 3
   },
   "file_extension": ".py",
   "mimetype": "text/x-python",
   "name": "python",
   "nbconvert_exporter": "python",
   "pygments_lexer": "ipython3",
   "version": "3.9.7"
  }
 },
 "nbformat": 4,
 "nbformat_minor": 5
}
